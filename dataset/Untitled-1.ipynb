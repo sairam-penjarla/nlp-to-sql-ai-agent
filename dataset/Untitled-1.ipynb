{
 "cells": [
  {
   "cell_type": "markdown",
   "metadata": {},
   "source": [
    "# Data cleaning"
   ]
  },
  {
   "cell_type": "code",
   "execution_count": 23,
   "metadata": {},
   "outputs": [],
   "source": [
    "import pandas as pd\n",
    "import numpy as np"
   ]
  },
  {
   "cell_type": "code",
   "execution_count": 24,
   "metadata": {},
   "outputs": [],
   "source": [
    "df = pd.read_csv(\"phone search.csv\")"
   ]
  },
  {
   "cell_type": "code",
   "execution_count": 25,
   "metadata": {},
   "outputs": [
    {
     "name": "stderr",
     "output_type": "stream",
     "text": [
      "<>:1: SyntaxWarning: invalid escape sequence '\\$'\n",
      "<>:2: SyntaxWarning: invalid escape sequence '\\$'\n",
      "<>:3: SyntaxWarning: invalid escape sequence '\\$'\n",
      "<>:6: SyntaxWarning: invalid escape sequence '\\+'\n",
      "<>:6: SyntaxWarning: invalid escape sequence '\\+'\n",
      "<>:1: SyntaxWarning: invalid escape sequence '\\$'\n",
      "<>:2: SyntaxWarning: invalid escape sequence '\\$'\n",
      "<>:3: SyntaxWarning: invalid escape sequence '\\$'\n",
      "<>:6: SyntaxWarning: invalid escape sequence '\\+'\n",
      "<>:6: SyntaxWarning: invalid escape sequence '\\+'\n",
      "C:\\Users\\SaiRamPenjarla\\AppData\\Local\\Temp\\ipykernel_22924\\4216905691.py:1: SyntaxWarning: invalid escape sequence '\\$'\n",
      "  df['product_price'] = df['product_price'].replace('[\\$,]', '', regex=True).astype(float)\n",
      "C:\\Users\\SaiRamPenjarla\\AppData\\Local\\Temp\\ipykernel_22924\\4216905691.py:2: SyntaxWarning: invalid escape sequence '\\$'\n",
      "  df['product_original_price'] = df['product_original_price'].replace('[\\$,]', '', regex=True).astype(float)\n",
      "C:\\Users\\SaiRamPenjarla\\AppData\\Local\\Temp\\ipykernel_22924\\4216905691.py:3: SyntaxWarning: invalid escape sequence '\\$'\n",
      "  df['product_minimum_offer_price'] = df['product_minimum_offer_price'].replace('[\\$,]', '', regex=True).astype(float)\n",
      "C:\\Users\\SaiRamPenjarla\\AppData\\Local\\Temp\\ipykernel_22924\\4216905691.py:6: SyntaxWarning: invalid escape sequence '\\+'\n",
      "  df['sales_volume'] = df['sales_volume'].str.replace(' bought in past month', '').replace({'K\\+': '*1000', '\\+': ''}, regex=True).map(pd.eval).astype(float)\n",
      "C:\\Users\\SaiRamPenjarla\\AppData\\Local\\Temp\\ipykernel_22924\\4216905691.py:6: SyntaxWarning: invalid escape sequence '\\+'\n",
      "  df['sales_volume'] = df['sales_volume'].str.replace(' bought in past month', '').replace({'K\\+': '*1000', '\\+': ''}, regex=True).map(pd.eval).astype(float)\n"
     ]
    }
   ],
   "source": [
    "df['product_price'] = df['product_price'].replace('[\\$,]', '', regex=True).astype(float)\n",
    "df['product_original_price'] = df['product_original_price'].replace('[\\$,]', '', regex=True).astype(float)\n",
    "df['product_minimum_offer_price'] = df['product_minimum_offer_price'].replace('[\\$,]', '', regex=True).astype(float)\n",
    "df['sales_volume'] = df['sales_volume'].str.strip().replace(['List:', 'More Buying Choices', 'Typical:', 'Typical price:', \"Shop products from small business brands sold in Amazon’s store. Discover more about the small businesses partnering with Amazon and Amazon’s commitment to empowering them.\", \"nan\"], \" \")\n",
    "df['sales_volume'] = df['sales_volume'].fillna(\" \")\n",
    "df['sales_volume'] = df['sales_volume'].str.replace(' bought in past month', '').replace({'K\\+': '*1000', '\\+': ''}, regex=True).map(pd.eval).astype(float)\n"
   ]
  },
  {
   "cell_type": "code",
   "execution_count": 43,
   "metadata": {},
   "outputs": [],
   "source": [
    "df.to_csv(\"cleaned_phone_search_data.csv\", index=False)"
   ]
  },
  {
   "cell_type": "markdown",
   "metadata": {},
   "source": [
    "# Schema for Prompt template"
   ]
  },
  {
   "cell_type": "code",
   "execution_count": 31,
   "metadata": {},
   "outputs": [],
   "source": [
    "def summarize_dataframe(df):\n",
    "    summary = []\n",
    "    for column in df.columns:\n",
    "        length = 10 if len(str(df[column].unique()[0])) <= 10 else 5\n",
    "        unique_values = df[column].unique()[:length]  # Get unique values, limiting to 10\n",
    "        unique_values_str = ', '.join(map(str, unique_values))  # Convert to string and join\n",
    "        summary.append(f\"{column}: {unique_values_str}\")  # Create the formatted string for each column\n",
    "    return '\\n'.join(summary)  # Join all lines into a single string\n"
   ]
  },
  {
   "cell_type": "code",
   "execution_count": 41,
   "metadata": {},
   "outputs": [
    {
     "name": "stdout",
     "output_type": "stream",
     "text": [
      "asin: B0BQ118F2T, B0CV2W1TKZ, B09SM24S8C, B0CHH1N9VY, B09T3MQSVP, B0BZG14KFJ, B0C2SWQBMB, B0CTD47P22, B0CSB14R7J, B0CHK6LWKZ\n",
      "product_title: Moto G Play 2023 3-Day Battery Unlocked Made for US 3/32GB 16MP Camera Navy Blue, Samsung Galaxy A15 (SM-155M/DSN), 128GB 6GB RAM, Dual SIM, Factory Unlocked GSM, International Version (Ring Grip Case Bundle) (Light Blue), Samsung Galaxy A03s Cell Phone, AT&amp;T GSM Unlocked Android Smartphone, 32GB, Long Lasting Battery, Expandable Storage, 3 Camera Lenses, Infinite Display - Black (Renewed), TracFone | Motorola Moto g Pure | Locked | 32GB | 4000 mAh Battery | 13 MP Dual Camera System | 6.5&quot; Max Vision HD+ Display | Blue, Samsung Galaxy A13 5G Cell Phone, AT&amp;T GSM Unlocked Android Smartphone, 64GB, Long Lasting Battery, Expandable Storage, Triple Lens Camera, Infinite Display, Black (Renewed)\n",
      "product_price: 99.0, 153.99, 69.0, 49.99, 88.09, 149.99, 149.5, 139.99, 59.99, 89.0\n",
      "product_original_price: 169.99, nan, 99.99, 98.27, 59.99, 249.99, 158.0, 299.99, 415.0, 44.7\n",
      "currency: USD, nan\n",
      "product_star_rating: 4.0, 4.2, 3.8, 4.4, 4.3, 4.1, 3.6, 3.9, 4.5, 3.3\n",
      "product_num_ratings: 1319, 186, 597, 2814, 1338, 3843, 2637, 253, 573, 258\n",
      "product_url: https://www.amazon.com/dp/B0BQ118F2T, https://www.amazon.com/dp/B0CV2W1TKZ, https://www.amazon.com/dp/B09SM24S8C, https://www.amazon.com/dp/B0CHH1N9VY, https://www.amazon.com/dp/B09T3MQSVP\n",
      "product_photo: https://m.media-amazon.com/images/I/61K1Fz5LxvL._AC_UY654_FMwebp_QL65_.jpg, https://m.media-amazon.com/images/I/31bNhi6E3eL._AC_UY650_FMwebp_QL65_.jpg, https://m.media-amazon.com/images/I/51m45B3Yy+L._AC_UY654_FMwebp_QL65_.jpg, https://m.media-amazon.com/images/I/71zGrrAe5NL._AC_UY654_FMwebp_QL65_.jpg, https://m.media-amazon.com/images/I/61xhaqnlKPL._AC_UY654_FMwebp_QL65_.jpg\n",
      "product_num_offers: 16, 4, 35, 3, 31, 8, 9, 15, 10, 2\n",
      "product_minimum_offer_price: 69.88, 147.5, 64.99, 43.99, 70.4, 25.19, 100.72, 146.5, 136.62, 50.48\n",
      "is_best_seller: False, True\n",
      "is_amazon_choice: False, True\n",
      "is_prime: True, False\n",
      "product_availability: Only 1 left in stock - order soon., nan, Only 3 left in stock - order soon., Only 6 left in stock - order soon., Only 9 left in stock - order soon.\n",
      "climate_pledge_friendly: False, True\n",
      "sales_volume: 4000.0, 1000.0, 2000.0, 500.0, 400.0, 200.0, 3000.0, 300.0, 900.0, 50.0\n",
      "delivery: FREE delivery Tue, Sep 24 Only 1 left in stock - order soon., FREE delivery Tue, Sep 24, FREE delivery Mon, Sep 30, FREE delivery Wed, Sep 25, FREE delivery Tue, Sep 24 on $35 of items shipped by Amazon\n",
      "has_variations: False, True\n",
      "unit_price: nan, $25.00, $23.55\n",
      "unit_count: nan, 2.0, 5.0\n",
      "coupon_text: nan, Save 10% with coupon, Save $4.00 with coupon, Save $14.00 with coupon, Save 5% with coupon, Save $17.00 with coupon, Save 15% with coupon, Save $10.00 with coupon, Save 18% with coupon, Save $40.00 with coupon\n"
     ]
    }
   ],
   "source": [
    "print(summarize_dataframe(df))"
   ]
  },
  {
   "cell_type": "code",
   "execution_count": null,
   "metadata": {},
   "outputs": [],
   "source": []
  }
 ],
 "metadata": {
  "kernelspec": {
   "display_name": "base",
   "language": "python",
   "name": "python3"
  },
  "language_info": {
   "codemirror_mode": {
    "name": "ipython",
    "version": 3
   },
   "file_extension": ".py",
   "mimetype": "text/x-python",
   "name": "python",
   "nbconvert_exporter": "python",
   "pygments_lexer": "ipython3",
   "version": "3.12.2"
  }
 },
 "nbformat": 4,
 "nbformat_minor": 2
}
